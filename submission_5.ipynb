{
 "cells": [
  {
   "cell_type": "markdown",
   "source": [
    "What I'm Trying top predict for this project is a number of rings on the shell of an Abalone ( A type of mollusk ) they are also called sea ears.\n",
    "The number of rings is supposed to represent the age.\n",
    "\n",
    "![Abalone](https://upload.wikimedia.org/wikipedia/commons/thumb/3/33/LivingAbalone.JPG/220px-LivingAbalone.JPG)"
   ],
   "metadata": {
    "collapsed": false
   },
   "id": "4d66796c0aa42286"
  },
  {
   "cell_type": "code",
   "outputs": [],
   "source": [
    "import pandas as pd\n",
    "import numpy as np\n",
    "import matplotlib.pyplot as plt\n",
    "\n",
    "from sklearn.model_selection import train_test_split, RandomizedSearchCV\n",
    "from sklearn.preprocessing import StandardScaler, LabelEncoder\n",
    "from sklearn.linear_model import LinearRegression\n",
    "from sklearn.metrics import root_mean_squared_log_error\n",
    "from sklearn.feature_selection import SelectFromModel"
   ],
   "metadata": {
    "collapsed": false,
    "ExecuteTime": {
     "end_time": "2024-04-25T12:17:26.991459Z",
     "start_time": "2024-04-25T12:17:26.985448Z"
    }
   },
   "id": "9084f557ce241250",
   "execution_count": 25
  },
  {
   "cell_type": "code",
   "outputs": [
    {
     "name": "stdout",
     "output_type": "stream",
     "text": [
      "   Sex  Length  Diameter  Height  Whole weight  Whole weight.1  \\\n",
      "id                                                               \n",
      "0    F   0.550     0.430   0.150        0.7715          0.3285   \n",
      "1    F   0.630     0.490   0.145        1.1300          0.4580   \n",
      "2    I   0.160     0.110   0.025        0.0210          0.0055   \n",
      "3    M   0.595     0.475   0.150        0.9145          0.3755   \n",
      "4    I   0.555     0.425   0.130        0.7820          0.3695   \n",
      "\n",
      "    Whole weight.2  Shell weight  Rings  \n",
      "id                                       \n",
      "0           0.1465        0.2400     11  \n",
      "1           0.2765        0.3200     11  \n",
      "2           0.0030        0.0050      6  \n",
      "3           0.2055        0.2500     10  \n",
      "4           0.1600        0.1975      9  \n",
      "      Sex  Length  Diameter  Height  Whole weight  Whole weight.1  \\\n",
      "id                                                                  \n",
      "90615   M   0.645     0.475   0.155        1.2380          0.6185   \n",
      "90616   M   0.580     0.460   0.160        0.9830          0.4785   \n",
      "90617   M   0.560     0.420   0.140        0.8395          0.3525   \n",
      "90618   M   0.570     0.490   0.145        0.8740          0.3525   \n",
      "90619   I   0.415     0.325   0.110        0.3580          0.1575   \n",
      "\n",
      "       Whole weight.2  Shell weight  \n",
      "id                                   \n",
      "90615          0.3125        0.3005  \n",
      "90616          0.2195        0.2750  \n",
      "90617          0.1845        0.2405  \n",
      "90618          0.1865        0.2350  \n",
      "90619          0.0670        0.1050  \n"
     ]
    }
   ],
   "source": [
    "train_file = \"./train.csv\"\n",
    "test_file = \"./test.csv\"\n",
    "\n",
    "train = pd.read_csv(train_file, index_col=0)\n",
    "test = pd.read_csv(test_file, index_col=0)\n",
    "print(train.head())\n",
    "print(test.head())"
   ],
   "metadata": {
    "collapsed": false,
    "ExecuteTime": {
     "end_time": "2024-04-25T12:02:43.795112Z",
     "start_time": "2024-04-25T12:02:43.716114Z"
    }
   },
   "id": "772f4c946e0d386e",
   "execution_count": 14
  },
  {
   "cell_type": "code",
   "outputs": [
    {
     "name": "stdout",
     "output_type": "stream",
     "text": [
      "id\n",
      "0    0\n",
      "1    0\n",
      "2    1\n",
      "3    2\n",
      "4    1\n",
      "Name: Sex, dtype: int32\n"
     ]
    }
   ],
   "source": [
    "encoder = LabelEncoder()\n",
    "\n",
    "train['Sex'] = encoder.fit_transform(train['Sex'])\n",
    "test['Sex'] = encoder.transform(test['Sex'])\n",
    "print(train['Sex'].head())"
   ],
   "metadata": {
    "collapsed": false,
    "ExecuteTime": {
     "end_time": "2024-04-25T12:02:43.826131Z",
     "start_time": "2024-04-25T12:02:43.796112Z"
    }
   },
   "id": "99e85fb80d238556",
   "execution_count": 15
  },
  {
   "cell_type": "code",
   "outputs": [],
   "source": [
    "X = train.drop('Rings', axis=1)\n",
    "y = train['Rings']\n",
    "\n",
    "scaler = StandardScaler()\n",
    "X = scaler.fit_transform(X)\n",
    "test1 = scaler.transform(test)\n",
    "\n",
    "X_train, X_test, y_train, y_test = train_test_split(X, y, test_size=0.2, random_state=0)"
   ],
   "metadata": {
    "collapsed": false,
    "ExecuteTime": {
     "end_time": "2024-04-25T12:02:43.857117Z",
     "start_time": "2024-04-25T12:02:43.828113Z"
    }
   },
   "id": "56a4c1267595c88d",
   "execution_count": 16
  },
  {
   "cell_type": "code",
   "outputs": [],
   "source": [
    "linreg = LinearRegression()\n",
    "\n",
    "linreg.fit(X_train, y_train)\n",
    "\n",
    "y_pred = np.round(linreg.predict(X_test))\n",
    "y_pred[y_pred<1] = 1"
   ],
   "metadata": {
    "collapsed": false,
    "ExecuteTime": {
     "end_time": "2024-04-25T12:02:43.872135Z",
     "start_time": "2024-04-25T12:02:43.858112Z"
    }
   },
   "id": "3001a633b93928b2",
   "execution_count": 17
  },
  {
   "cell_type": "code",
   "outputs": [
    {
     "name": "stdout",
     "output_type": "stream",
     "text": [
      "0.16745761106008042\n"
     ]
    }
   ],
   "source": [
    "rmsle = root_mean_squared_log_error(y_true=y_test, y_pred=y_pred)\n",
    "print(rmsle)"
   ],
   "metadata": {
    "collapsed": false,
    "ExecuteTime": {
     "end_time": "2024-04-25T12:02:43.888137Z",
     "start_time": "2024-04-25T12:02:43.873113Z"
    }
   },
   "id": "b83ae731fb497c4b",
   "execution_count": 18
  },
  {
   "cell_type": "markdown",
   "source": [
    "That's a good baseline i think. would like to get it to at least 0.14 so i can get on the leaderboard. This will be my baseline."
   ],
   "metadata": {
    "collapsed": false
   },
   "id": "a90b207f72c3094c"
  },
  {
   "cell_type": "markdown",
   "source": [
    "## Model Iteration 5"
   ],
   "metadata": {
    "collapsed": false
   },
   "id": "9ada7ddc18c021ca"
  },
  {
   "cell_type": "code",
   "outputs": [],
   "source": [
    "from sklearn.linear_model import SGDRegressor"
   ],
   "metadata": {
    "collapsed": false,
    "ExecuteTime": {
     "end_time": "2024-04-25T12:19:00.951476Z",
     "start_time": "2024-04-25T12:19:00.946474Z"
    }
   },
   "id": "547262cf3d3b56ae",
   "execution_count": 27
  },
  {
   "cell_type": "code",
   "outputs": [
    {
     "name": "stdout",
     "output_type": "stream",
     "text": [
      "Best hyperparameters: {'penalty': 'l1', 'epsilon': 0.001, 'alpha': 0.001}\n"
     ]
    }
   ],
   "source": [
    "param_grid = {\n",
    "    'epsilon': [0.001, 0.01, 0.1],\n",
    "    'alpha': [0.0001, 0.001, 0.01],\n",
    "    'penalty': ['l1', 'l2']\n",
    "}\n",
    "\n",
    "sgd_regressor = SGDRegressor(max_iter=10000)\n",
    "\n",
    "search = RandomizedSearchCV(sgd_regressor, param_grid, cv=5)\n",
    "\n",
    "search.fit(X_train, y_train)\n",
    "\n",
    "best_model = search.best_estimator_\n",
    "\n",
    "best_params = search.best_params_\n",
    "\n",
    "print(\"Best hyperparameters:\", best_params)"
   ],
   "metadata": {
    "collapsed": false,
    "ExecuteTime": {
     "end_time": "2024-04-25T12:21:14.007543Z",
     "start_time": "2024-04-25T12:21:11.564310Z"
    }
   },
   "id": "e24ca8220af57150",
   "execution_count": 31
  },
  {
   "cell_type": "code",
   "outputs": [],
   "source": [
    "sgdr_final_5 = SGDRegressor(**best_params)\n",
    "\n",
    "sgdr_final_5.fit(X, y)\n",
    "\n",
    "y_pred_final_5 = np.round(sgdr_final_5.predict(test1))\n",
    "y_pred_final_5[y_pred_final_5 < 1] = 1"
   ],
   "metadata": {
    "collapsed": false,
    "ExecuteTime": {
     "end_time": "2024-04-25T12:23:02.365861Z",
     "start_time": "2024-04-25T12:23:02.270845Z"
    }
   },
   "id": "1fb16c2ab1d70a23",
   "execution_count": 33
  },
  {
   "cell_type": "code",
   "outputs": [
    {
     "name": "stdout",
     "output_type": "stream",
     "text": [
      "       Rings\n",
      "id          \n",
      "90615    8.0\n",
      "90616   10.0\n",
      "90617   10.0\n",
      "90618   11.0\n",
      "90619    8.0\n"
     ]
    }
   ],
   "source": [
    "df_final_5 = pd.DataFrame()\n",
    "df_final_5.index = test.index\n",
    "df_final_5['Rings'] = y_pred_final_5\n",
    "\n",
    "print(df_final_5.head())"
   ],
   "metadata": {
    "collapsed": false,
    "ExecuteTime": {
     "end_time": "2024-04-25T12:23:02.900959Z",
     "start_time": "2024-04-25T12:23:02.887960Z"
    }
   },
   "id": "4a6411a14943b04",
   "execution_count": 34
  },
  {
   "cell_type": "code",
   "outputs": [
    {
     "name": "stdout",
     "output_type": "stream",
     "text": [
      "       Rings\n",
      "id          \n",
      "90615      8\n",
      "90616     10\n",
      "90617     10\n",
      "90618     11\n",
      "90619      8\n"
     ]
    }
   ],
   "source": [
    "df_final_5['Rings'] = df_final_5['Rings'].astype('int')\n",
    "print(df_final_5.head())"
   ],
   "metadata": {
    "collapsed": false,
    "ExecuteTime": {
     "end_time": "2024-04-25T12:23:03.964423Z",
     "start_time": "2024-04-25T12:23:03.956405Z"
    }
   },
   "id": "985e5b860a1ae10d",
   "execution_count": 35
  },
  {
   "cell_type": "code",
   "outputs": [],
   "source": [
    "df_final_5.to_csv('submission_5.csv')"
   ],
   "metadata": {
    "collapsed": false,
    "ExecuteTime": {
     "end_time": "2024-04-25T12:23:05.405324Z",
     "start_time": "2024-04-25T12:23:05.368303Z"
    }
   },
   "id": "f5cd76046445ce8",
   "execution_count": 36
  }
 ],
 "metadata": {
  "kernelspec": {
   "display_name": "Python 3",
   "language": "python",
   "name": "python3"
  },
  "language_info": {
   "codemirror_mode": {
    "name": "ipython",
    "version": 2
   },
   "file_extension": ".py",
   "mimetype": "text/x-python",
   "name": "python",
   "nbconvert_exporter": "python",
   "pygments_lexer": "ipython2",
   "version": "2.7.6"
  }
 },
 "nbformat": 4,
 "nbformat_minor": 5
}
