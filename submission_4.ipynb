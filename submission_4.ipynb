{
 "cells": [
  {
   "cell_type": "markdown",
   "source": [
    "What I'm Trying top predict for this project is a number of rings on the shell of an Abalone ( A type of mollusk ) they are also called sea ears.\n",
    "The number of rings is supposed to represent the age.\n",
    "\n",
    "![Abalone](https://upload.wikimedia.org/wikipedia/commons/thumb/3/33/LivingAbalone.JPG/220px-LivingAbalone.JPG)"
   ],
   "metadata": {
    "collapsed": false
   },
   "id": "4d66796c0aa42286"
  },
  {
   "cell_type": "code",
   "outputs": [],
   "source": [
    "import pandas as pd\n",
    "import numpy as np\n",
    "import matplotlib.pyplot as plt\n",
    "\n",
    "from sklearn.model_selection import train_test_split, GridSearchCV\n",
    "from sklearn.preprocessing import StandardScaler, LabelEncoder\n",
    "from sklearn.linear_model import LinearRegression\n",
    "from sklearn.metrics import root_mean_squared_log_error"
   ],
   "metadata": {
    "collapsed": false,
    "ExecuteTime": {
     "end_time": "2024-04-25T12:02:33.769454Z",
     "start_time": "2024-04-25T12:02:33.761453Z"
    }
   },
   "id": "9084f557ce241250",
   "execution_count": 30
  },
  {
   "cell_type": "code",
   "outputs": [
    {
     "name": "stdout",
     "output_type": "stream",
     "text": [
      "   Sex  Length  Diameter  Height  Whole weight  Whole weight.1  \\\n",
      "id                                                               \n",
      "0    F   0.550     0.430   0.150        0.7715          0.3285   \n",
      "1    F   0.630     0.490   0.145        1.1300          0.4580   \n",
      "2    I   0.160     0.110   0.025        0.0210          0.0055   \n",
      "3    M   0.595     0.475   0.150        0.9145          0.3755   \n",
      "4    I   0.555     0.425   0.130        0.7820          0.3695   \n",
      "\n",
      "    Whole weight.2  Shell weight  Rings  \n",
      "id                                       \n",
      "0           0.1465        0.2400     11  \n",
      "1           0.2765        0.3200     11  \n",
      "2           0.0030        0.0050      6  \n",
      "3           0.2055        0.2500     10  \n",
      "4           0.1600        0.1975      9  \n",
      "      Sex  Length  Diameter  Height  Whole weight  Whole weight.1  \\\n",
      "id                                                                  \n",
      "90615   M   0.645     0.475   0.155        1.2380          0.6185   \n",
      "90616   M   0.580     0.460   0.160        0.9830          0.4785   \n",
      "90617   M   0.560     0.420   0.140        0.8395          0.3525   \n",
      "90618   M   0.570     0.490   0.145        0.8740          0.3525   \n",
      "90619   I   0.415     0.325   0.110        0.3580          0.1575   \n",
      "\n",
      "       Whole weight.2  Shell weight  \n",
      "id                                   \n",
      "90615          0.3125        0.3005  \n",
      "90616          0.2195        0.2750  \n",
      "90617          0.1845        0.2405  \n",
      "90618          0.1865        0.2350  \n",
      "90619          0.0670        0.1050  \n"
     ]
    }
   ],
   "source": [
    "train_file = \"./train.csv\"\n",
    "test_file = \"./test.csv\"\n",
    "\n",
    "train = pd.read_csv(train_file, index_col=0)\n",
    "test = pd.read_csv(test_file, index_col=0)\n",
    "print(train.head())\n",
    "print(test.head())"
   ],
   "metadata": {
    "collapsed": false,
    "ExecuteTime": {
     "end_time": "2024-04-25T12:02:34.146470Z",
     "start_time": "2024-04-25T12:02:34.054453Z"
    }
   },
   "id": "772f4c946e0d386e",
   "execution_count": 31
  },
  {
   "cell_type": "code",
   "outputs": [
    {
     "name": "stdout",
     "output_type": "stream",
     "text": [
      "id\n",
      "0    0\n",
      "1    0\n",
      "2    1\n",
      "3    2\n",
      "4    1\n",
      "Name: Sex, dtype: int32\n"
     ]
    }
   ],
   "source": [
    "encoder = LabelEncoder()\n",
    "\n",
    "train['Sex'] = encoder.fit_transform(train['Sex'])\n",
    "test['Sex'] = encoder.transform(test['Sex'])\n",
    "print(train['Sex'].head())"
   ],
   "metadata": {
    "collapsed": false,
    "ExecuteTime": {
     "end_time": "2024-04-25T12:02:35.035454Z",
     "start_time": "2024-04-25T12:02:35.011453Z"
    }
   },
   "id": "99e85fb80d238556",
   "execution_count": 32
  },
  {
   "cell_type": "code",
   "outputs": [],
   "source": [
    "X = train.drop('Rings', axis=1)\n",
    "y = train['Rings']\n",
    "\n",
    "scaler = StandardScaler()\n",
    "X = scaler.fit_transform(X)\n",
    "test1 = scaler.transform(test)\n",
    "\n",
    "X_train, X_test, y_train, y_test = train_test_split(X, y, test_size=0.2, random_state=0)"
   ],
   "metadata": {
    "collapsed": false,
    "ExecuteTime": {
     "end_time": "2024-04-25T12:02:36.577124Z",
     "start_time": "2024-04-25T12:02:36.543124Z"
    }
   },
   "id": "56a4c1267595c88d",
   "execution_count": 33
  },
  {
   "cell_type": "code",
   "outputs": [],
   "source": [
    "linreg = LinearRegression()\n",
    "\n",
    "linreg.fit(X_train, y_train)\n",
    "\n",
    "y_pred = np.round(linreg.predict(X_test))\n",
    "y_pred[y_pred<1] = 1"
   ],
   "metadata": {
    "collapsed": false,
    "ExecuteTime": {
     "end_time": "2024-04-25T12:02:39.907753Z",
     "start_time": "2024-04-25T12:02:39.878733Z"
    }
   },
   "id": "3001a633b93928b2",
   "execution_count": 34
  },
  {
   "cell_type": "code",
   "outputs": [
    {
     "name": "stdout",
     "output_type": "stream",
     "text": [
      "0.16745761106008042\n"
     ]
    }
   ],
   "source": [
    "rmsle = root_mean_squared_log_error(y_true=y_test, y_pred=y_pred)\n",
    "print(rmsle)"
   ],
   "metadata": {
    "collapsed": false,
    "ExecuteTime": {
     "end_time": "2024-04-25T12:02:40.952150Z",
     "start_time": "2024-04-25T12:02:40.940133Z"
    }
   },
   "id": "b83ae731fb497c4b",
   "execution_count": 35
  },
  {
   "cell_type": "markdown",
   "source": [
    "That's a good baseline i think. would like to get it to at least 0.14 so i can get on the leaderboard. This will be my baseline."
   ],
   "metadata": {
    "collapsed": false
   },
   "id": "a90b207f72c3094c"
  },
  {
   "cell_type": "markdown",
   "source": [
    "## Model Iteration 4"
   ],
   "metadata": {
    "collapsed": false
   },
   "id": "5ea497ffcf732517"
  },
  {
   "cell_type": "code",
   "outputs": [],
   "source": [
    "import tensorflow as tf\n",
    "from tensorflow.keras.layers import Dense, Input\n",
    "from tensorflow.keras.models import Sequential\n",
    "from tensorflow.keras.optimizers import Adam"
   ],
   "metadata": {
    "collapsed": false,
    "ExecuteTime": {
     "end_time": "2024-04-25T11:43:48.984468Z",
     "start_time": "2024-04-25T11:43:48.969470Z"
    }
   },
   "id": "90afb2715b2830aa",
   "execution_count": 16
  },
  {
   "cell_type": "code",
   "outputs": [],
   "source": [
    "# Function used to compile all the models\n",
    "def compile_model(model, lr):\n",
    "    opt = tf.keras.optimizers.Adam(learning_rate=lr)\n",
    "    loss = tf.keras.losses.MeanSquaredLogarithmicError(\n",
    "        reduction=\"sum_over_batch_size\", name=\"mean_squared_logarithmic_error\"\n",
    "    )\n",
    "    \n",
    "    model.compile(optimizer=opt,\n",
    "                  loss=loss,\n",
    "                  metrics=['accuracy'])\n",
    "    return model"
   ],
   "metadata": {
    "collapsed": false,
    "ExecuteTime": {
     "end_time": "2024-04-25T11:46:41.880351Z",
     "start_time": "2024-04-25T11:46:41.861792Z"
    }
   },
   "id": "88fc0d29aac507cf",
   "execution_count": 20
  },
  {
   "cell_type": "code",
   "outputs": [
    {
     "name": "stdout",
     "output_type": "stream",
     "text": [
      "Model: \"sequential_1\"\n",
      "_________________________________________________________________\n",
      " Layer (type)                Output Shape              Param #   \n",
      "=================================================================\n",
      " dense_3 (Dense)             (None, 64)                576       \n",
      "                                                                 \n",
      " dense_4 (Dense)             (None, 32)                2080      \n",
      "                                                                 \n",
      " dense_5 (Dense)             (None, 1)                 33        \n",
      "                                                                 \n",
      "=================================================================\n",
      "Total params: 2,689\n",
      "Trainable params: 2,689\n",
      "Non-trainable params: 0\n",
      "_________________________________________________________________\n",
      "None\n"
     ]
    }
   ],
   "source": [
    "def build_mlp(print_summary=False):\n",
    "    model = Sequential()\n",
    "\n",
    "    model.add(Input(shape=(X.shape[1],)))\n",
    "    model.add(Dense(64, activation=\"relu\"))\n",
    "    model.add(Dense(32, activation=\"relu\"))\n",
    "    model.add(Dense(1, activation=\"relu\"))\n",
    "\n",
    "    if print_summary:\n",
    "        print(model.summary())\n",
    "    return model\n",
    "\n",
    "mlp_4 = build_mlp(True)"
   ],
   "metadata": {
    "collapsed": false,
    "ExecuteTime": {
     "end_time": "2024-04-25T11:46:43.522215Z",
     "start_time": "2024-04-25T11:46:43.481592Z"
    }
   },
   "id": "a546e8024b6b755",
   "execution_count": 21
  },
  {
   "cell_type": "code",
   "outputs": [
    {
     "data": {
      "text/plain": "<keras.engine.sequential.Sequential at 0x17ce1588e50>"
     },
     "execution_count": 22,
     "metadata": {},
     "output_type": "execute_result"
    }
   ],
   "source": [
    "compile_model(mlp_4, 0.001)"
   ],
   "metadata": {
    "collapsed": false,
    "ExecuteTime": {
     "end_time": "2024-04-25T11:46:45.863861Z",
     "start_time": "2024-04-25T11:46:45.838691Z"
    }
   },
   "id": "cf64624b616399c3",
   "execution_count": 22
  },
  {
   "cell_type": "code",
   "outputs": [
    {
     "name": "stdout",
     "output_type": "stream",
     "text": [
      "Epoch 1/10\n",
      "1416/1416 [==============================] - 5s 2ms/step - loss: 0.1609 - accuracy: 2.7589e-04\n",
      "Epoch 2/10\n",
      "1416/1416 [==============================] - 3s 2ms/step - loss: 0.0261 - accuracy: 2.7589e-04\n",
      "Epoch 3/10\n",
      "1416/1416 [==============================] - 3s 2ms/step - loss: 0.0245 - accuracy: 2.7589e-04\n",
      "Epoch 4/10\n",
      "1416/1416 [==============================] - 3s 2ms/step - loss: 0.0241 - accuracy: 2.7589e-04\n",
      "Epoch 5/10\n",
      "1416/1416 [==============================] - 3s 2ms/step - loss: 0.0239 - accuracy: 2.7589e-04\n",
      "Epoch 6/10\n",
      "1416/1416 [==============================] - 3s 2ms/step - loss: 0.0238 - accuracy: 2.7589e-04\n",
      "Epoch 7/10\n",
      "1416/1416 [==============================] - 3s 2ms/step - loss: 0.0237 - accuracy: 2.7589e-04\n",
      "Epoch 8/10\n",
      "1416/1416 [==============================] - 3s 2ms/step - loss: 0.0236 - accuracy: 2.7589e-04\n",
      "Epoch 9/10\n",
      "1416/1416 [==============================] - 3s 2ms/step - loss: 0.0235 - accuracy: 2.7589e-04\n",
      "Epoch 10/10\n",
      "1416/1416 [==============================] - 3s 2ms/step - loss: 0.0235 - accuracy: 2.7589e-04\n"
     ]
    },
    {
     "data": {
      "text/plain": "<keras.callbacks.History at 0x17e81a71a50>"
     },
     "execution_count": 23,
     "metadata": {},
     "output_type": "execute_result"
    }
   ],
   "source": [
    "mlp_4.fit(X, y, epochs=10, batch_size=64)"
   ],
   "metadata": {
    "collapsed": false,
    "ExecuteTime": {
     "end_time": "2024-04-25T11:47:17.793830Z",
     "start_time": "2024-04-25T11:46:48.663314Z"
    }
   },
   "id": "fe07224442163cb1",
   "execution_count": 23
  },
  {
   "cell_type": "code",
   "outputs": [
    {
     "name": "stdout",
     "output_type": "stream",
     "text": [
      "944/944 [==============================] - 1s 965us/step\n"
     ]
    }
   ],
   "source": [
    "y_pred_final_4 = np.round(mlp_4.predict(test1, batch_size=64))\n",
    "y_pred_final_4[y_pred_final_4 < 1] = 1"
   ],
   "metadata": {
    "collapsed": false,
    "ExecuteTime": {
     "end_time": "2024-04-25T11:47:57.389046Z",
     "start_time": "2024-04-25T11:47:56.288045Z"
    }
   },
   "id": "fdc736329968e155",
   "execution_count": 26
  },
  {
   "cell_type": "code",
   "outputs": [
    {
     "name": "stdout",
     "output_type": "stream",
     "text": [
      "       Rings\n",
      "id          \n",
      "90615    9.0\n",
      "90616   10.0\n",
      "90617   10.0\n",
      "90618   10.0\n",
      "90619    8.0\n"
     ]
    }
   ],
   "source": [
    "df_final_4 = pd.DataFrame()\n",
    "df_final_4.index = test.index\n",
    "df_final_4['Rings'] = y_pred_final_4\n",
    "\n",
    "print(df_final_4.head())"
   ],
   "metadata": {
    "collapsed": false,
    "ExecuteTime": {
     "end_time": "2024-04-25T11:47:58.760253Z",
     "start_time": "2024-04-25T11:47:58.742253Z"
    }
   },
   "id": "add0db2a8b1677f8",
   "execution_count": 27
  },
  {
   "cell_type": "code",
   "outputs": [
    {
     "name": "stdout",
     "output_type": "stream",
     "text": [
      "       Rings\n",
      "id          \n",
      "90615      9\n",
      "90616     10\n",
      "90617     10\n",
      "90618     10\n",
      "90619      8\n"
     ]
    }
   ],
   "source": [
    "df_final_4['Rings'] = df_final_4['Rings'].astype('int')\n",
    "print(df_final_4.head())"
   ],
   "metadata": {
    "collapsed": false,
    "ExecuteTime": {
     "end_time": "2024-04-25T11:48:01.043978Z",
     "start_time": "2024-04-25T11:48:01.028960Z"
    }
   },
   "id": "641104e640c7dafd",
   "execution_count": 28
  },
  {
   "cell_type": "code",
   "outputs": [],
   "source": [
    "df_final_4.to_csv('submission_4.csv')"
   ],
   "metadata": {
    "collapsed": false,
    "ExecuteTime": {
     "end_time": "2024-04-25T11:48:03.781609Z",
     "start_time": "2024-04-25T11:48:03.742574Z"
    }
   },
   "id": "58c3aff67e4ece5e",
   "execution_count": 29
  }
 ],
 "metadata": {
  "kernelspec": {
   "display_name": "Python 3",
   "language": "python",
   "name": "python3"
  },
  "language_info": {
   "codemirror_mode": {
    "name": "ipython",
    "version": 2
   },
   "file_extension": ".py",
   "mimetype": "text/x-python",
   "name": "python",
   "nbconvert_exporter": "python",
   "pygments_lexer": "ipython2",
   "version": "2.7.6"
  }
 },
 "nbformat": 4,
 "nbformat_minor": 5
}
