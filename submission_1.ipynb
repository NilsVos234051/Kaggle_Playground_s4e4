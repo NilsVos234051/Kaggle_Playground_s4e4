{
 "cells": [
  {
   "cell_type": "markdown",
   "source": [
    "What I'm Trying top predict for this project is a number of rings on the shell of an Abalone ( A type of mollusk ) they are also called sea ears.\n",
    "The number of rings is supposed to represent the age.\n",
    "\n",
    "![Abalone](https://upload.wikimedia.org/wikipedia/commons/thumb/3/33/LivingAbalone.JPG/220px-LivingAbalone.JPG)"
   ],
   "metadata": {
    "collapsed": false
   },
   "id": "4d66796c0aa42286"
  },
  {
   "cell_type": "code",
   "outputs": [],
   "source": [
    "import pandas as pd\n",
    "import numpy as np\n",
    "import matplotlib.pyplot as plt\n",
    "\n",
    "from sklearn.model_selection import train_test_split, GridSearchCV\n",
    "from sklearn.preprocessing import StandardScaler, LabelEncoder\n",
    "from sklearn.linear_model import LinearRegression\n",
    "from sklearn.metrics import root_mean_squared_log_error"
   ],
   "metadata": {
    "collapsed": false,
    "ExecuteTime": {
     "end_time": "2024-04-22T13:47:53.228977Z",
     "start_time": "2024-04-22T13:47:53.209977Z"
    }
   },
   "id": "9084f557ce241250",
   "execution_count": 24
  },
  {
   "cell_type": "code",
   "outputs": [
    {
     "name": "stdout",
     "output_type": "stream",
     "text": [
      "   Sex  Length  Diameter  Height  Whole weight  Whole weight.1  \\\n",
      "id                                                               \n",
      "0    F   0.550     0.430   0.150        0.7715          0.3285   \n",
      "1    F   0.630     0.490   0.145        1.1300          0.4580   \n",
      "2    I   0.160     0.110   0.025        0.0210          0.0055   \n",
      "3    M   0.595     0.475   0.150        0.9145          0.3755   \n",
      "4    I   0.555     0.425   0.130        0.7820          0.3695   \n",
      "\n",
      "    Whole weight.2  Shell weight  Rings  \n",
      "id                                       \n",
      "0           0.1465        0.2400     11  \n",
      "1           0.2765        0.3200     11  \n",
      "2           0.0030        0.0050      6  \n",
      "3           0.2055        0.2500     10  \n",
      "4           0.1600        0.1975      9  \n"
     ]
    }
   ],
   "source": [
    "train_file = \"./train.csv\"\n",
    "test_file = \"./test.csv\"\n",
    "\n",
    "train = pd.read_csv(train_file, index_col=0)\n",
    "print(train.head())"
   ],
   "metadata": {
    "collapsed": false,
    "ExecuteTime": {
     "end_time": "2024-04-22T13:47:53.670188Z",
     "start_time": "2024-04-22T13:47:53.592167Z"
    }
   },
   "id": "772f4c946e0d386e",
   "execution_count": 25
  },
  {
   "cell_type": "code",
   "outputs": [
    {
     "name": "stdout",
     "output_type": "stream",
     "text": [
      "id\n",
      "0    0\n",
      "1    0\n",
      "2    1\n",
      "3    2\n",
      "4    1\n",
      "Name: Sex, dtype: int32\n"
     ]
    }
   ],
   "source": [
    "encoder = LabelEncoder()\n",
    "\n",
    "train['Sex'] = encoder.fit_transform(train['Sex'])\n",
    "print(train['Sex'].head())"
   ],
   "metadata": {
    "collapsed": false,
    "ExecuteTime": {
     "end_time": "2024-04-22T13:47:54.748672Z",
     "start_time": "2024-04-22T13:47:54.731641Z"
    }
   },
   "id": "99e85fb80d238556",
   "execution_count": 26
  },
  {
   "cell_type": "code",
   "outputs": [],
   "source": [
    "X = train.drop('Rings', axis=1)\n",
    "y = train['Rings']\n",
    "\n",
    "scaler = StandardScaler()\n",
    "X = scaler.fit_transform(X)\n",
    "\n",
    "X_train, X_test, y_train, y_test = train_test_split(X, y, test_size=0.2, random_state=0)"
   ],
   "metadata": {
    "collapsed": false,
    "ExecuteTime": {
     "end_time": "2024-04-22T13:47:56.173138Z",
     "start_time": "2024-04-22T13:47:56.143138Z"
    }
   },
   "id": "56a4c1267595c88d",
   "execution_count": 27
  },
  {
   "cell_type": "code",
   "outputs": [],
   "source": [
    "linreg = LinearRegression()\n",
    "\n",
    "linreg.fit(X_train, y_train)\n",
    "\n",
    "y_pred = np.round(linreg.predict(X_test))\n",
    "y_pred[y_pred<1] = 1                          # Remove negative values and set them to 1"
   ],
   "metadata": {
    "collapsed": false,
    "ExecuteTime": {
     "end_time": "2024-04-22T13:58:11.798220Z",
     "start_time": "2024-04-22T13:58:11.784199Z"
    }
   },
   "id": "3001a633b93928b2",
   "execution_count": 38
  },
  {
   "cell_type": "code",
   "outputs": [
    {
     "name": "stdout",
     "output_type": "stream",
     "text": [
      "0.16745761106008042\n"
     ]
    }
   ],
   "source": [
    "rmsle = root_mean_squared_log_error(y_true=y_test, y_pred=y_pred)\n",
    "print(rmsle)"
   ],
   "metadata": {
    "collapsed": false,
    "ExecuteTime": {
     "end_time": "2024-04-22T13:58:13.615557Z",
     "start_time": "2024-04-22T13:58:13.596557Z"
    }
   },
   "id": "b83ae731fb497c4b",
   "execution_count": 39
  },
  {
   "cell_type": "markdown",
   "source": [
    "That's a good baseline i think. would like to get it to at least 0.14 so i can get on the leaderboard. This will be my baseline."
   ],
   "metadata": {
    "collapsed": false
   },
   "id": "a90b207f72c3094c"
  },
  {
   "cell_type": "markdown",
   "source": [
    "## Model iteration 1"
   ],
   "metadata": {
    "collapsed": false
   },
   "id": "aca918ff0aa58472"
  },
  {
   "cell_type": "code",
   "outputs": [
    {
     "name": "stdout",
     "output_type": "stream",
     "text": [
      "29\n"
     ]
    }
   ],
   "source": [
    "print(y.values.max())"
   ],
   "metadata": {
    "collapsed": false,
    "ExecuteTime": {
     "end_time": "2024-04-22T14:10:55.000501Z",
     "start_time": "2024-04-22T14:10:54.984501Z"
    }
   },
   "id": "8581364eb080d1ca",
   "execution_count": 45
  },
  {
   "cell_type": "markdown",
   "source": [
    "Either regression and rounding to the closest number, or classification with 29 classes. Though i think regression would do best in the case that maybe there are some examples with 30 rings in the test data, which would be excluded. Thus for the first iteration I will try Regression."
   ],
   "metadata": {
    "collapsed": false
   },
   "id": "8f9745c0f7cd40ed"
  },
  {
   "cell_type": "code",
   "outputs": [],
   "source": [
    "from sklearn.svm import SVR\n",
    "from sklearn.tree import DecisionTreeRegressor\n",
    "from sklearn.ensemble import RandomForestRegressor\n",
    "from sklearn.neighbors import KNeighborsRegressor\n",
    "from sklearn.linear_model import Ridge"
   ],
   "metadata": {
    "collapsed": false,
    "ExecuteTime": {
     "end_time": "2024-04-22T15:28:57.389084Z",
     "start_time": "2024-04-22T15:28:57.373086Z"
    }
   },
   "id": "4aa9e2a29dd2a0c0",
   "execution_count": 51
  },
  {
   "cell_type": "code",
   "outputs": [
    {
     "name": "stdout",
     "output_type": "stream",
     "text": [
      "Fitting model: svr\n",
      "Fitting model: dt\n",
      "Fitting model: rf\n",
      "Fitting model: knn\n",
      "Fitting model: ridge\n"
     ]
    }
   ],
   "source": [
    "models = [('svr', SVR()),\n",
    "          ('dt', DecisionTreeRegressor()),\n",
    "          ('rf', RandomForestRegressor()),\n",
    "          ('knn', KNeighborsRegressor()),\n",
    "          ('ridge', Ridge())]\n",
    "\n",
    "rmsle_scores = []\n",
    "\n",
    "for name, model in models:\n",
    "    print('Fitting model:', name)\n",
    "    model.fit(X_train, y_train)\n",
    "    y_pred = np.round(model.predict(X_test))\n",
    "    y_pred[y_pred<1] = 1\n",
    "    rmsle = root_mean_squared_log_error(y_true=y_test, y_pred=y_pred)\n",
    "    rmsle_scores.append((name, rmsle))"
   ],
   "metadata": {
    "collapsed": false,
    "ExecuteTime": {
     "end_time": "2024-04-22T15:34:23.019686Z",
     "start_time": "2024-04-22T15:31:52.976173Z"
    }
   },
   "id": "6c6a6db84760fdfe",
   "execution_count": 53
  },
  {
   "cell_type": "code",
   "outputs": [
    {
     "name": "stdout",
     "output_type": "stream",
     "text": [
      "[('svr', 0.15744276131077117), ('dt', 0.21646433954652472), ('rf', 0.15784384675379085), ('knn', 0.1683710530311581), ('ridge', 0.16746960090216662)]\n"
     ]
    }
   ],
   "source": [
    "print(rmsle_scores)"
   ],
   "metadata": {
    "collapsed": false,
    "ExecuteTime": {
     "end_time": "2024-04-22T15:34:30.760986Z",
     "start_time": "2024-04-22T15:34:30.754985Z"
    }
   },
   "id": "158db7c5bc785c89",
   "execution_count": 54
  },
  {
   "cell_type": "markdown",
   "source": [
    "I will now start tuning the parameters of the Support Vector Regressor (SVR)"
   ],
   "metadata": {
    "collapsed": false
   },
   "id": "db1dfaa2523dcc72"
  },
  {
   "cell_type": "code",
   "outputs": [],
   "source": [],
   "metadata": {
    "collapsed": false
   },
   "id": "93447896c5b8033c"
  }
 ],
 "metadata": {
  "kernelspec": {
   "display_name": "Python 3",
   "language": "python",
   "name": "python3"
  },
  "language_info": {
   "codemirror_mode": {
    "name": "ipython",
    "version": 2
   },
   "file_extension": ".py",
   "mimetype": "text/x-python",
   "name": "python",
   "nbconvert_exporter": "python",
   "pygments_lexer": "ipython2",
   "version": "2.7.6"
  }
 },
 "nbformat": 4,
 "nbformat_minor": 5
}
