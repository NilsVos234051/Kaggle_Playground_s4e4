{
 "cells": [
  {
   "cell_type": "markdown",
   "source": [
    "What I'm Trying top predict for this project is a number of rings on the shell of an Abalone ( A type of mollusk ) they are also called sea ears.\n",
    "The number of rings is supposed to represent the age.\n",
    "\n",
    "![Abalone](https://upload.wikimedia.org/wikipedia/commons/thumb/3/33/LivingAbalone.JPG/220px-LivingAbalone.JPG)"
   ],
   "metadata": {
    "collapsed": false
   },
   "id": "4d66796c0aa42286"
  },
  {
   "cell_type": "code",
   "outputs": [],
   "source": [
    "import pandas as pd\n",
    "import numpy as np\n",
    "import matplotlib.pyplot as plt\n",
    "\n",
    "from sklearn.model_selection import train_test_split\n",
    "from sklearn.preprocessing import StandardScaler, LabelEncoder\n",
    "from sklearn.linear_model import LogisticRegression\n",
    "from sklearn.metrics import root_mean_squared_log_error"
   ],
   "metadata": {
    "collapsed": false,
    "ExecuteTime": {
     "end_time": "2024-04-18T13:44:48.029173Z",
     "start_time": "2024-04-18T13:44:48.022156Z"
    }
   },
   "id": "9084f557ce241250",
   "execution_count": 14
  },
  {
   "cell_type": "code",
   "outputs": [
    {
     "name": "stdout",
     "output_type": "stream",
     "text": [
      "   Sex  Length  Diameter  Height  Whole weight  Whole weight.1  \\\n",
      "id                                                               \n",
      "0    F   0.550     0.430   0.150        0.7715          0.3285   \n",
      "1    F   0.630     0.490   0.145        1.1300          0.4580   \n",
      "2    I   0.160     0.110   0.025        0.0210          0.0055   \n",
      "3    M   0.595     0.475   0.150        0.9145          0.3755   \n",
      "4    I   0.555     0.425   0.130        0.7820          0.3695   \n",
      "\n",
      "    Whole weight.2  Shell weight  Rings  \n",
      "id                                       \n",
      "0           0.1465        0.2400     11  \n",
      "1           0.2765        0.3200     11  \n",
      "2           0.0030        0.0050      6  \n",
      "3           0.2055        0.2500     10  \n",
      "4           0.1600        0.1975      9  \n"
     ]
    }
   ],
   "source": [
    "train_file = \"./train.csv\"\n",
    "test_file = \"./test.csv\"\n",
    "\n",
    "train = pd.read_csv(train_file, index_col=0)\n",
    "print(train.head())"
   ],
   "metadata": {
    "collapsed": false,
    "ExecuteTime": {
     "end_time": "2024-04-18T13:44:48.519173Z",
     "start_time": "2024-04-18T13:44:48.455156Z"
    }
   },
   "id": "772f4c946e0d386e",
   "execution_count": 15
  },
  {
   "cell_type": "code",
   "outputs": [
    {
     "name": "stdout",
     "output_type": "stream",
     "text": [
      "id\n",
      "0    0\n",
      "1    0\n",
      "2    1\n",
      "3    2\n",
      "4    1\n",
      "Name: Sex, dtype: int32\n"
     ]
    }
   ],
   "source": [
    "encoder = LabelEncoder()\n",
    "\n",
    "train['Sex'] = encoder.fit_transform(train['Sex'])\n",
    "print(train['Sex'].head())"
   ],
   "metadata": {
    "collapsed": false,
    "ExecuteTime": {
     "end_time": "2024-04-18T13:44:49.851929Z",
     "start_time": "2024-04-18T13:44:49.832923Z"
    }
   },
   "id": "99e85fb80d238556",
   "execution_count": 16
  },
  {
   "cell_type": "code",
   "outputs": [],
   "source": [
    "X = train.drop('Rings', axis=1)\n",
    "y = train['Rings']\n",
    "\n",
    "scaler = StandardScaler()\n",
    "X = scaler.fit_transform(X)\n",
    "\n",
    "X_train, X_test, y_train, y_test = train_test_split(X, y, test_size=0.2, random_state=0)"
   ],
   "metadata": {
    "collapsed": false,
    "ExecuteTime": {
     "end_time": "2024-04-18T13:45:09.328776Z",
     "start_time": "2024-04-18T13:45:09.290776Z"
    }
   },
   "id": "56a4c1267595c88d",
   "execution_count": 17
  },
  {
   "cell_type": "code",
   "outputs": [],
   "source": [
    "logreg = LogisticRegression(max_iter=100000)\n",
    "\n",
    "logreg.fit(X_train, y_train)\n",
    "\n",
    "y_pred = logreg.predict(X_test)"
   ],
   "metadata": {
    "collapsed": false,
    "ExecuteTime": {
     "end_time": "2024-04-18T13:49:46.615001Z",
     "start_time": "2024-04-18T13:49:31.705503Z"
    }
   },
   "id": "3001a633b93928b2",
   "execution_count": 20
  },
  {
   "cell_type": "code",
   "outputs": [
    {
     "name": "stdout",
     "output_type": "stream",
     "text": [
      "0.17648588561703818\n"
     ]
    }
   ],
   "source": [
    "rmsle = root_mean_squared_log_error(y_true=y_test, y_pred=y_pred)\n",
    "print(rmsle)"
   ],
   "metadata": {
    "collapsed": false,
    "ExecuteTime": {
     "end_time": "2024-04-18T13:50:44.463928Z",
     "start_time": "2024-04-18T13:50:44.449911Z"
    }
   },
   "id": "b83ae731fb497c4b",
   "execution_count": 22
  },
  {
   "cell_type": "markdown",
   "source": [
    "That's a good baseline i think. would like to get it to at least 0.14 so i can get on the leaderboard. This will be my baseline."
   ],
   "metadata": {
    "collapsed": false
   },
   "id": "a90b207f72c3094c"
  }
 ],
 "metadata": {
  "kernelspec": {
   "display_name": "Python 3",
   "language": "python",
   "name": "python3"
  },
  "language_info": {
   "codemirror_mode": {
    "name": "ipython",
    "version": 2
   },
   "file_extension": ".py",
   "mimetype": "text/x-python",
   "name": "python",
   "nbconvert_exporter": "python",
   "pygments_lexer": "ipython2",
   "version": "2.7.6"
  }
 },
 "nbformat": 4,
 "nbformat_minor": 5
}
