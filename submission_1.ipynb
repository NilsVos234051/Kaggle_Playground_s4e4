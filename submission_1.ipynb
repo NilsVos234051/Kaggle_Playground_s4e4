{
 "cells": [
  {
   "cell_type": "markdown",
   "source": [
    "What I'm Trying top predict for this project is a number of rings on the shell of an Abalone ( A type of mollusk ) they are also called sea ears.\n",
    "The number of rings is supposed to represent the age.\n",
    "\n",
    "![Abalone](https://upload.wikimedia.org/wikipedia/commons/thumb/3/33/LivingAbalone.JPG/220px-LivingAbalone.JPG)"
   ],
   "metadata": {
    "collapsed": false
   },
   "id": "4d66796c0aa42286"
  },
  {
   "cell_type": "code",
   "outputs": [],
   "source": [
    "import pandas as pd\n",
    "import numpy as np\n",
    "import matplotlib.pyplot as plt\n",
    "\n",
    "from sklearn.model_selection import train_test_split, GridSearchCV, RandomizedSearchCV\n",
    "from sklearn.preprocessing import StandardScaler, LabelEncoder\n",
    "from sklearn.linear_model import LinearRegression\n",
    "from sklearn.metrics import root_mean_squared_log_error"
   ],
   "metadata": {
    "collapsed": false,
    "ExecuteTime": {
     "end_time": "2024-04-23T10:15:51.401095Z",
     "start_time": "2024-04-23T10:15:51.386095Z"
    }
   },
   "id": "9084f557ce241250",
   "execution_count": 16
  },
  {
   "cell_type": "code",
   "outputs": [
    {
     "name": "stdout",
     "output_type": "stream",
     "text": [
      "   Sex  Length  Diameter  Height  Whole weight  Whole weight.1  \\\n",
      "id                                                               \n",
      "0    F   0.550     0.430   0.150        0.7715          0.3285   \n",
      "1    F   0.630     0.490   0.145        1.1300          0.4580   \n",
      "2    I   0.160     0.110   0.025        0.0210          0.0055   \n",
      "3    M   0.595     0.475   0.150        0.9145          0.3755   \n",
      "4    I   0.555     0.425   0.130        0.7820          0.3695   \n",
      "\n",
      "    Whole weight.2  Shell weight  Rings  \n",
      "id                                       \n",
      "0           0.1465        0.2400     11  \n",
      "1           0.2765        0.3200     11  \n",
      "2           0.0030        0.0050      6  \n",
      "3           0.2055        0.2500     10  \n",
      "4           0.1600        0.1975      9  \n",
      "      Sex  Length  Diameter  Height  Whole weight  Whole weight.1  \\\n",
      "id                                                                  \n",
      "90615   M   0.645     0.475   0.155        1.2380          0.6185   \n",
      "90616   M   0.580     0.460   0.160        0.9830          0.4785   \n",
      "90617   M   0.560     0.420   0.140        0.8395          0.3525   \n",
      "90618   M   0.570     0.490   0.145        0.8740          0.3525   \n",
      "90619   I   0.415     0.325   0.110        0.3580          0.1575   \n",
      "\n",
      "       Whole weight.2  Shell weight  \n",
      "id                                   \n",
      "90615          0.3125        0.3005  \n",
      "90616          0.2195        0.2750  \n",
      "90617          0.1845        0.2405  \n",
      "90618          0.1865        0.2350  \n",
      "90619          0.0670        0.1050  \n"
     ]
    }
   ],
   "source": [
    "train_file = \"./train.csv\"\n",
    "test_file = \"./test.csv\"\n",
    "\n",
    "train = pd.read_csv(train_file, index_col=0)\n",
    "test = pd.read_csv(test_file, index_col=0)\n",
    "print(train.head())\n",
    "print(test.head())"
   ],
   "metadata": {
    "collapsed": false,
    "ExecuteTime": {
     "end_time": "2024-04-23T14:14:25.178990Z",
     "start_time": "2024-04-23T14:14:25.090902Z"
    }
   },
   "id": "772f4c946e0d386e",
   "execution_count": 35
  },
  {
   "cell_type": "code",
   "outputs": [
    {
     "name": "stdout",
     "output_type": "stream",
     "text": [
      "id\n",
      "0    0\n",
      "1    0\n",
      "2    1\n",
      "3    2\n",
      "4    1\n",
      "Name: Sex, dtype: int32\n"
     ]
    }
   ],
   "source": [
    "encoder = LabelEncoder()\n",
    "\n",
    "train['Sex'] = encoder.fit_transform(train['Sex'])\n",
    "test['Sex'] = encoder.transform(test['Sex'])\n",
    "print(train['Sex'].head())"
   ],
   "metadata": {
    "collapsed": false,
    "ExecuteTime": {
     "end_time": "2024-04-23T14:14:27.597342Z",
     "start_time": "2024-04-23T14:14:27.579341Z"
    }
   },
   "id": "99e85fb80d238556",
   "execution_count": 36
  },
  {
   "cell_type": "code",
   "outputs": [],
   "source": [
    "X = train.drop('Rings', axis=1)\n",
    "y = train['Rings']\n",
    "\n",
    "scaler = StandardScaler()\n",
    "X = scaler.fit_transform(X)\n",
    "\n",
    "X_train, X_test, y_train, y_test = train_test_split(X, y, test_size=0.2, random_state=0)"
   ],
   "metadata": {
    "collapsed": false,
    "ExecuteTime": {
     "end_time": "2024-04-23T14:14:34.597963Z",
     "start_time": "2024-04-23T14:14:34.575840Z"
    }
   },
   "id": "56a4c1267595c88d",
   "execution_count": 37
  },
  {
   "cell_type": "code",
   "outputs": [],
   "source": [
    "linreg = LinearRegression()\n",
    "\n",
    "linreg.fit(X_train, y_train)\n",
    "\n",
    "y_pred = np.round(linreg.predict(X_test))\n",
    "y_pred[y_pred<1] = 1                          # Remove negative values and set them to 1"
   ],
   "metadata": {
    "collapsed": false,
    "ExecuteTime": {
     "end_time": "2024-04-23T10:00:15.746014Z",
     "start_time": "2024-04-23T10:00:15.715012Z"
    }
   },
   "id": "3001a633b93928b2",
   "execution_count": 6
  },
  {
   "cell_type": "code",
   "outputs": [
    {
     "name": "stdout",
     "output_type": "stream",
     "text": [
      "0.16745761106008042\n"
     ]
    }
   ],
   "source": [
    "rmsle = root_mean_squared_log_error(y_true=y_test, y_pred=y_pred)\n",
    "print(rmsle)"
   ],
   "metadata": {
    "collapsed": false,
    "ExecuteTime": {
     "end_time": "2024-04-23T10:00:15.762012Z",
     "start_time": "2024-04-23T10:00:15.747013Z"
    }
   },
   "id": "b83ae731fb497c4b",
   "execution_count": 7
  },
  {
   "cell_type": "markdown",
   "source": [
    "That's a good baseline i think. would like to get it to at least 0.14 so i can get on the leaderboard. This will be my baseline."
   ],
   "metadata": {
    "collapsed": false
   },
   "id": "a90b207f72c3094c"
  },
  {
   "cell_type": "markdown",
   "source": [
    "## Model iteration 1"
   ],
   "metadata": {
    "collapsed": false
   },
   "id": "aca918ff0aa58472"
  },
  {
   "cell_type": "code",
   "outputs": [
    {
     "name": "stdout",
     "output_type": "stream",
     "text": [
      "29\n"
     ]
    }
   ],
   "source": [
    "print(y.values.max())"
   ],
   "metadata": {
    "collapsed": false,
    "ExecuteTime": {
     "end_time": "2024-04-23T10:00:15.778011Z",
     "start_time": "2024-04-23T10:00:15.763015Z"
    }
   },
   "id": "8581364eb080d1ca",
   "execution_count": 8
  },
  {
   "cell_type": "markdown",
   "source": [
    "Either regression and rounding to the closest number, or classification with 29 classes. Though i think regression would do best in the case that maybe there are some examples with 30 rings in the test data, which would be excluded. Thus for the first iteration I will try Regression."
   ],
   "metadata": {
    "collapsed": false
   },
   "id": "8f9745c0f7cd40ed"
  },
  {
   "cell_type": "code",
   "outputs": [],
   "source": [
    "from sklearn.svm import SVR\n",
    "from sklearn.tree import DecisionTreeRegressor\n",
    "from sklearn.ensemble import RandomForestRegressor\n",
    "from sklearn.neighbors import KNeighborsRegressor\n",
    "from sklearn.linear_model import Ridge"
   ],
   "metadata": {
    "collapsed": false,
    "ExecuteTime": {
     "end_time": "2024-04-23T10:00:15.890029Z",
     "start_time": "2024-04-23T10:00:15.779012Z"
    }
   },
   "id": "4aa9e2a29dd2a0c0",
   "execution_count": 9
  },
  {
   "cell_type": "code",
   "outputs": [
    {
     "name": "stdout",
     "output_type": "stream",
     "text": [
      "Fitting model: svr\n",
      "Fitting model: dt\n",
      "Fitting model: rf\n",
      "Fitting model: knn\n",
      "Fitting model: ridge\n"
     ]
    }
   ],
   "source": [
    "models = [('svr', SVR()),\n",
    "          ('dt', DecisionTreeRegressor()),\n",
    "          ('rf', RandomForestRegressor()),\n",
    "          ('knn', KNeighborsRegressor()),\n",
    "          ('ridge', Ridge())]\n",
    "\n",
    "rmsle_scores = []\n",
    "\n",
    "for name, model in models:\n",
    "    print('Fitting model:', name)\n",
    "    model.fit(X_train, y_train)\n",
    "    y_pred = np.round(model.predict(X_test))\n",
    "    y_pred[y_pred<1] = 1\n",
    "    rmsle = root_mean_squared_log_error(y_true=y_test, y_pred=y_pred)\n",
    "    rmsle_scores.append((name, rmsle))"
   ],
   "metadata": {
    "collapsed": false,
    "ExecuteTime": {
     "end_time": "2024-04-23T10:02:52.183865Z",
     "start_time": "2024-04-23T10:00:15.891013Z"
    }
   },
   "id": "6c6a6db84760fdfe",
   "execution_count": 10
  },
  {
   "cell_type": "code",
   "outputs": [
    {
     "name": "stdout",
     "output_type": "stream",
     "text": [
      "[('svr', 0.15744276131077117), ('dt', 0.21717154820897655), ('rf', 0.15767900198089038), ('knn', 0.1683710530311581), ('ridge', 0.16746960090216662)]\n"
     ]
    }
   ],
   "source": [
    "print(rmsle_scores)"
   ],
   "metadata": {
    "collapsed": false,
    "ExecuteTime": {
     "end_time": "2024-04-23T10:02:52.199866Z",
     "start_time": "2024-04-23T10:02:52.185865Z"
    }
   },
   "id": "158db7c5bc785c89",
   "execution_count": 11
  },
  {
   "cell_type": "markdown",
   "source": [
    "I will now start tuning the parameters of the Support Vector Regressor (SVR)"
   ],
   "metadata": {
    "collapsed": false
   },
   "id": "db1dfaa2523dcc72"
  },
  {
   "cell_type": "code",
   "outputs": [
    {
     "name": "stdout",
     "output_type": "stream",
     "text": [
      "Fitting 3 folds for each of 10 candidates, totalling 30 fits\n"
     ]
    },
    {
     "name": "stderr",
     "output_type": "stream",
     "text": [
      "C:\\Users\\vosni\\anaconda3\\envs\\block_c_tf\\lib\\site-packages\\sklearn\\model_selection\\_search.py:1051: UserWarning: One or more of the test scores are non-finite: [nan nan nan nan nan nan nan nan nan nan]\n",
      "  warnings.warn(\n"
     ]
    },
    {
     "name": "stdout",
     "output_type": "stream",
     "text": [
      "{'gamma': 0.1, 'epsilon': 0.01, 'C': 14}\n"
     ]
    }
   ],
   "source": [
    "param_grid = {'C': [10, 14, 18, 20],\n",
    "              'gamma': [0.1, 1],\n",
    "              'epsilon': [0.01, 0.1]}\n",
    "grid_search = RandomizedSearchCV(SVR(), param_distributions = param_grid,\n",
    "                           cv = 3, n_jobs = -1, verbose = 2, scoring=root_mean_squared_log_error)\n",
    "\n",
    "grid_search.fit(X_train, y_train)\n",
    "print(grid_search.best_params_)"
   ],
   "metadata": {
    "collapsed": false,
    "ExecuteTime": {
     "end_time": "2024-04-23T13:14:56.260047Z",
     "start_time": "2024-04-23T13:02:58.440826Z"
    }
   },
   "id": "93447896c5b8033c",
   "execution_count": 21
  },
  {
   "cell_type": "code",
   "outputs": [
    {
     "name": "stdout",
     "output_type": "stream",
     "text": [
      "0.15384712617861282\n"
     ]
    }
   ],
   "source": [
    "iteration_1_svr = SVR(kernel='rbf', C=grid_search.best_params_['C'], gamma=grid_search.best_params_['gamma'], epsilon=grid_search.best_params_['epsilon'])\n",
    "\n",
    "iteration_1_svr.fit(X_train, y_train)\n",
    "\n",
    "y_pred_1 = iteration_1_svr.predict(X_test)\n",
    "y_pred_1[y_pred_1<1] = 1\n",
    "rmsle_1 = root_mean_squared_log_error(y_true=y_test, y_pred=y_pred_1)\n",
    "\n",
    "print(rmsle_1)"
   ],
   "metadata": {
    "collapsed": false,
    "ExecuteTime": {
     "end_time": "2024-04-23T13:23:10.445661Z",
     "start_time": "2024-04-23T13:20:30.557194Z"
    }
   },
   "id": "8b545477a3617953",
   "execution_count": 22
  },
  {
   "cell_type": "markdown",
   "source": [
    "### Final Train using entire dataset"
   ],
   "metadata": {
    "collapsed": false
   },
   "id": "eb18316e10f9e79c"
  },
  {
   "cell_type": "code",
   "outputs": [
    {
     "name": "stderr",
     "output_type": "stream",
     "text": [
      "C:\\Users\\vosni\\anaconda3\\envs\\block_c_tf\\lib\\site-packages\\sklearn\\base.py:486: UserWarning: X has feature names, but SVR was fitted without feature names\n",
      "  warnings.warn(\n"
     ]
    }
   ],
   "source": [
    "iteration_1_final = SVR(kernel='rbf', C=grid_search.best_params_['C'], gamma=grid_search.best_params_['gamma'],\n",
    "                      epsilon=grid_search.best_params_['epsilon'])\n",
    "\n",
    "iteration_1_final.fit(X, y)\n",
    "\n",
    "y_pred_final_1 = np.round(iteration_1_final.predict(test))\n",
    "y_pred_final_1[y_pred_final_1 < 1] = 1"
   ],
   "metadata": {
    "collapsed": false,
    "ExecuteTime": {
     "end_time": "2024-04-23T14:21:04.680103Z",
     "start_time": "2024-04-23T14:14:40.869812Z"
    }
   },
   "id": "1b0465bdbd525dd6",
   "execution_count": 38
  },
  {
   "cell_type": "code",
   "outputs": [
    {
     "name": "stdout",
     "output_type": "stream",
     "text": [
      "       Rings\n",
      "id          \n",
      "90615   11.0\n",
      "90616   11.0\n",
      "90617   11.0\n",
      "90618   11.0\n",
      "90619   10.0\n"
     ]
    }
   ],
   "source": [
    "df_final_1 = pd.DataFrame()\n",
    "df_final_1.index = test.index\n",
    "df_final_1['Rings'] = y_pred_final_1\n",
    "\n",
    "print(df_final_1.head())"
   ],
   "metadata": {
    "collapsed": false,
    "ExecuteTime": {
     "end_time": "2024-04-23T14:21:04.696109Z",
     "start_time": "2024-04-23T14:21:04.681086Z"
    }
   },
   "id": "93a3d34d03593227",
   "execution_count": 39
  },
  {
   "cell_type": "code",
   "outputs": [
    {
     "name": "stdout",
     "output_type": "stream",
     "text": [
      "       Rings\n",
      "id          \n",
      "90615     11\n",
      "90616     11\n",
      "90617     11\n",
      "90618     11\n",
      "90619     10\n"
     ]
    }
   ],
   "source": [
    "df_final_1['Rings'] = df_final_1['Rings'].astype('int')\n",
    "print(df_final_1.head())"
   ],
   "metadata": {
    "collapsed": false,
    "ExecuteTime": {
     "end_time": "2024-04-23T14:22:23.682215Z",
     "start_time": "2024-04-23T14:22:23.669216Z"
    }
   },
   "id": "2842b3c32c476402",
   "execution_count": 40
  },
  {
   "cell_type": "code",
   "outputs": [],
   "source": [
    "df_final_1.to_csv('submission_1.csv')"
   ],
   "metadata": {
    "collapsed": false,
    "ExecuteTime": {
     "end_time": "2024-04-23T14:22:51.319024Z",
     "start_time": "2024-04-23T14:22:51.287024Z"
    }
   },
   "id": "844a0c778d54a486",
   "execution_count": 41
  }
 ],
 "metadata": {
  "kernelspec": {
   "display_name": "Python 3",
   "language": "python",
   "name": "python3"
  },
  "language_info": {
   "codemirror_mode": {
    "name": "ipython",
    "version": 2
   },
   "file_extension": ".py",
   "mimetype": "text/x-python",
   "name": "python",
   "nbconvert_exporter": "python",
   "pygments_lexer": "ipython2",
   "version": "2.7.6"
  }
 },
 "nbformat": 4,
 "nbformat_minor": 5
}
